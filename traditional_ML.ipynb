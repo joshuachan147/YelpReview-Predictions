{
 "cells": [
  {
   "cell_type": "markdown",
   "id": "2a48de56-bf48-4250-93bc-93ba6405e10d",
   "metadata": {},
   "source": [
    "## Traditional ML pipeline"
   ]
  },
  {
   "cell_type": "code",
   "execution_count": 48,
   "id": "bb3077ae-f745-411c-85d9-da52271bd550",
   "metadata": {
    "tags": []
   },
   "outputs": [],
   "source": [
    "from sklearn.svm import SVC\n",
    "from sklearn.model_selection import train_test_split\n",
    "from sklearn.metrics import accuracy_score, precision_score, recall_score, confusion_matrix\n",
    "import pandas as pd\n",
    "import time\n",
    "import seaborn as sns\n",
    "import numpy as np\n",
    "from sklearn.linear_model import LogisticRegression\n",
    "import matplotlib.pyplot as plt\n",
    "import tqdm"
   ]
  },
  {
   "cell_type": "code",
   "execution_count": 23,
   "id": "5582950a-19df-43c1-8463-506cb89ed57b",
   "metadata": {
    "tags": []
   },
   "outputs": [],
   "source": [
    "#load in model data (300k rows)\n",
    "reviews_for_modeling = pd.read_csv(f's3://sagemaker-studio-ai-lab-3/samples/datasets/300k_train_df_forsvmmodel')\n",
    "reviews_for_modeling_stand = reviews_for_modeling.groupby('r_stars',as_index = False,group_keys=False).apply(lambda s: s.sample(20000,replace=True)).sample(frac=1)\n",
    "#reviews_for_modeling_sub = reviews_for_modeling.sample(n=, random_state=42)\n",
    "\n",
    "# Splitting data into test and train\n",
    "X_train, X_test, y_train, y_test = train_test_split(reviews_for_modeling_stand.drop(columns=['r_stars']), reviews_for_modeling_stand['r_stars'], test_size=0.2, random_state=42)"
   ]
  },
  {
   "cell_type": "code",
   "execution_count": 15,
   "id": "323ba488-f500-41b6-8d82-2f015e99ca54",
   "metadata": {
    "tags": []
   },
   "outputs": [
    {
     "data": {
      "text/plain": [
       "r_stars\n",
       "5    124241\n",
       "4     67915\n",
       "3     30280\n",
       "1     29928\n",
       "2     21670\n",
       "Name: count, dtype: int64"
      ]
     },
     "execution_count": 15,
     "metadata": {},
     "output_type": "execute_result"
    }
   ],
   "source": [
    "reviews_for_modeling.r_stars.value_counts()"
   ]
  },
  {
   "cell_type": "code",
   "execution_count": null,
   "id": "535fbb80-f928-4e3f-94be-4bc5f88efb1d",
   "metadata": {
    "tags": []
   },
   "outputs": [],
   "source": [
    "################################################\n",
    "# SVC classification\n",
    "################################################\n",
    "start = time.time()\n",
    "\n",
    "# Running the SVM model\n",
    "svm = SVC(kernel='rbf', C=1.0, gamma='scale')  # You can adjust parameters like kernel, C, and gamma as needed\n",
    "svm_model = svm.fit(X_train, y_train)\n",
    "\n",
    "# Predicting values\n",
    "y_pred = svm_model.predict(X_test)\n",
    "end = time.time()\n",
    "print(start-end)\n",
    "\n",
    "# Calculate metrics\n",
    "svm_accuracy = accuracy_score(y_test, y_pred)\n",
    "svm_conf_matrix = confusion_matrix(y_test, y_pred)\n",
    "svm_precision = precision_score(y_test, y_pred, average='macro')\n",
    "svm_recall = recall_score(y_test, y_pred, average='macro')\n",
    "\n",
    "print(f'Accuracy: {accuracy:.4f}')\n",
    "print(f'Precision (macro): {precision:.4f}, Recall (macro): {recall:.4f}')\n",
    "print('Confusion Matrix:')\n",
    "print(conf_matrix)"
   ]
  },
  {
   "cell_type": "code",
   "execution_count": 78,
   "id": "f7885824-329c-4deb-a3ab-9bfea058ff90",
   "metadata": {
    "tags": []
   },
   "outputs": [
    {
     "name": "stdout",
     "output_type": "stream",
     "text": [
      "Accuracy: 0.3241\n",
      "Precision (macro): 0.3269, Recall (macro): 0.3231\n",
      "Confusion Matrix:\n",
      "[[774 523 112 350 282]\n",
      " [448 603 204 457 238]\n",
      " [348 506 295 526 303]\n",
      " [229 275 230 742 474]\n",
      " [267 189  93 705 827]]\n"
     ]
    },
    {
     "name": "stderr",
     "output_type": "stream",
     "text": [
      "/opt/conda/lib/python3.10/site-packages/sklearn/linear_model/_logistic.py:460: ConvergenceWarning: lbfgs failed to converge (status=1):\n",
      "STOP: TOTAL NO. of ITERATIONS REACHED LIMIT.\n",
      "\n",
      "Increase the number of iterations (max_iter) or scale the data as shown in:\n",
      "    https://scikit-learn.org/stable/modules/preprocessing.html\n",
      "Please also refer to the documentation for alternative solver options:\n",
      "    https://scikit-learn.org/stable/modules/linear_model.html#logistic-regression\n",
      "  n_iter_i = _check_optimize_result(\n"
     ]
    }
   ],
   "source": [
    "################################################\n",
    "# Logistic Regression model\n",
    "################################################\n",
    "clf = LogisticRegression(max_iter=1000)\n",
    "clf.fit(X_train, y_train)\n",
    "y_pred = clf.predict(X_test)\n",
    "\n",
    "log_accuracy = accuracy_score(y_test, y_pred)\n",
    "log_conf_matrix = confusion_matrix(y_test, y_pred)\n",
    "log_precision = precision_score(y_test, y_pred, average='macro')\n",
    "log_recall = recall_score(y_test, y_pred, average='macro')\n",
    "\n",
    "print(f'Accuracy: {log_accuracy:.4f}')\n",
    "print(f'Precision (macro): {log_precision:.4f}, Recall (macro): {log_recall:.4f}')\n",
    "print('Confusion Matrix:')\n",
    "print(log_conf_matrix)"
   ]
  },
  {
   "cell_type": "code",
   "execution_count": 24,
   "id": "abc9db04-9ba3-4852-95b3-cd78a94b18ae",
   "metadata": {
    "tags": []
   },
   "outputs": [
    {
     "name": "stdout",
     "output_type": "stream",
     "text": [
      "Accuracy: 0.7811\n",
      "Precision (macro): 0.7801, Recall (macro): 0.7809\n",
      "Confusion Matrix:\n",
      "[[3500  428   54    7   10]\n",
      " [ 469 3151  379    8    3]\n",
      " [  85  437 2955  409   64]\n",
      " [  10   28  412 2729  821]\n",
      " [  14    4   47  690 3286]]\n"
     ]
    }
   ],
   "source": [
    "################################################\n",
    "# RF Classification model\n",
    "################################################\n",
    "from sklearn.ensemble import RandomForestClassifier\n",
    "rf = RandomForestClassifier(n_estimators=100, criterion='gini', random_state=42, max_depth=None)\n",
    "rf.fit(X_train, y_train)\n",
    "y_pred = rf.predict(X_test)\n",
    "\n",
    "rf_accuracy = accuracy_score(y_test, y_pred)\n",
    "rf_conf_matrix = confusion_matrix(y_test, y_pred)\n",
    "rf_precision = precision_score(y_test, y_pred, average='macro')\n",
    "rf_recall = recall_score(y_test, y_pred, average='macro')\n",
    "\n",
    "print(f'Accuracy: {rf_accuracy:.4f}')\n",
    "print(f'Precision (macro): {rf_precision:.4f}, Recall (macro): {rf_recall:.4f}')\n",
    "print('Confusion Matrix:')\n",
    "print(rf_conf_matrix)"
   ]
  },
  {
   "cell_type": "code",
   "execution_count": 80,
   "id": "53b8dfdd-8f20-4859-aa28-9c2c5be4b06c",
   "metadata": {
    "tags": []
   },
   "outputs": [
    {
     "data": {
      "image/png": "[encoded data removed]",
      "text/plain": [
       "<Figure size 1000x600 with 1 Axes>"
      ]
     },
     "metadata": {},
     "output_type": "display_data"
    }
   ],
   "source": [
    "# Sort feature importances in descending order\n",
    "feature_importance = rf.feature_importances_\n",
    "sorted_idx = np.argsort(feature_importance)[::1]\n",
    "\n",
    "sorted_importance= feature_importance[sorted_idx]\n",
    "\n",
    "# Sort the feature names based on their importance\n",
    "feature_names = X_train.columns[sorted_idx]\n",
    "\n",
    "# Plotting feature importances\n",
    "plt.figure(figsize=(10, 6))\n",
    "plt.barh(range(X_train.shape[1]), sorted_importance, align='center')\n",
    "plt.yticks(range(X_train.shape[1]), feature_names)\n",
    "plt.xlabel('Feature Importance')\n",
    "plt.ylabel('Features')\n",
    "plt.title('Random Forest Classifier - Feature Importance')\n",
    "plt.show()"
   ]
  },
  {
   "cell_type": "code",
   "execution_count": 81,
   "id": "231e4f40-01d0-4856-810d-fa4006865284",
   "metadata": {
    "tags": []
   },
   "outputs": [
    {
     "name": "stdout",
     "output_type": "stream",
     "text": [
      "Accuracy: 0.2976\n",
      "Precision (macro): 0.2992, Recall (macro): 0.2974\n",
      "Confusion Matrix:\n",
      "[[873 431 287 217 233]\n",
      " [546 662 343 242 157]\n",
      " [525 424 547 272 210]\n",
      " [418 396 442 417 277]\n",
      " [478 379 344 403 477]]\n"
     ]
    }
   ],
   "source": [
    "################################################\n",
    "# KNN classification\n",
    "################################################\n",
    "from sklearn.neighbors import KNeighborsClassifier\n",
    "knn = KNeighborsClassifier()\n",
    "knn.fit(X_train, y_train)\n",
    "y_pred = knn.predict(X_test)\n",
    "\n",
    "knn_accuracy = accuracy_score(y_test, y_pred)\n",
    "knn_conf_matrix = confusion_matrix(y_test, y_pred)\n",
    "knn_precision = precision_score(y_test, y_pred, average='macro')\n",
    "knn_recall = recall_score(y_test, y_pred, average='macro')\n",
    "\n",
    "print(f'Accuracy: {knn_accuracy:.4f}')\n",
    "print(f'Precision (macro): {knn_precision:.4f}, Recall (macro): {knn_recall:.4f}')\n",
    "print('Confusion Matrix:')\n",
    "print(knn_conf_matrix)"
   ]
  },
  {
   "cell_type": "code",
   "execution_count": 10,
   "id": "11745b59-376a-4b5f-a272-64b6d3c531cf",
   "metadata": {
    "tags": []
   },
   "outputs": [
    {
     "name": "stdout",
     "output_type": "stream",
     "text": [
      "Gradient Boosting Model Metrics:\n",
      "Accuracy: 0.6835\n",
      "Precision (macro): 0.6812, Recall (macro): 0.6832\n",
      "Confusion Matrix:\n",
      "[[4767 1009  139   14   24]\n",
      " [1223 3641 1139   64   10]\n",
      " [ 117 1016 3691 1071   93]\n",
      " [  17   55  742 3582 1467]\n",
      " [  18    7   81 1188 4825]]\n"
     ]
    }
   ],
   "source": [
    "################################################\n",
    "# gradient boosting classifier\n",
    "################################################\n",
    "from sklearn.ensemble import GradientBoostingClassifier\n",
    "gb = GradientBoostingClassifier(random_state=42)\n",
    "gb.fit(X_train, y_train)\n",
    "y_pred_gb = gb.predict(X_test)\n",
    "\n",
    "gb_accuracy = accuracy_score(y_test, y_pred_gb)\n",
    "gb_conf_matrix = confusion_matrix(y_test, y_pred_gb)\n",
    "gb_precision = precision_score(y_test, y_pred_gb, average='macro')\n",
    "gb_recall = recall_score(y_test, y_pred_gb, average='macro')\n",
    "\n",
    "# Print evaluation metrics\n",
    "print(f'Gradient Boosting Model Metrics:')\n",
    "print(f'Accuracy: {gb_accuracy:.4f}')\n",
    "print(f'Precision (macro): {gb_precision:.4f}, Recall (macro): {gb_recall:.4f}')\n",
    "print('Confusion Matrix:')\n",
    "print(gb_conf_matrix)"
   ]
  },
  {
   "cell_type": "markdown",
   "id": "9a0ce1e1-cb0c-42b2-b318-a89d8cb9250f",
   "metadata": {},
   "source": [
    "## Tuning optimal RF model"
   ]
  },
  {
   "cell_type": "code",
   "execution_count": 36,
   "id": "482dbc33-2779-4520-acc3-45a57fa521d6",
   "metadata": {
    "tags": []
   },
   "outputs": [
    {
     "data": {
      "text/plain": [
       "r_stars\n",
       "5    124241\n",
       "4     67915\n",
       "3     30280\n",
       "1     29928\n",
       "2     21670\n",
       "Name: count, dtype: int64"
      ]
     },
     "execution_count": 36,
     "metadata": {},
     "output_type": "execute_result"
    }
   ],
   "source": [
    "reviews_for_modeling.r_stars.value_counts()"
   ]
  },
  {
   "cell_type": "code",
   "execution_count": 29,
   "id": "f565e0e1-d970-4535-9fd0-2d9f2abcf993",
   "metadata": {
    "tags": []
   },
   "outputs": [],
   "source": [
    "#load in test data\n",
    "test = pd.read_csv(f's3://sagemaker-studio-ai-lab-3/samples/datasets/full_test_withBERTpred')\n",
    "\n",
    "#load in train data (300k rows)\n",
    "reviews_for_modeling = pd.read_csv(f's3://sagemaker-studio-ai-lab-3/samples/datasets/300k_train_df_forsvmmodel')\n",
    "reviews_for_modeling_stand = reviews_for_modeling.groupby('r_stars',as_index = False,group_keys=False).apply(lambda s: s.sample(20000,replace=True)).sample(frac=1)\n",
    "\n",
    "# Splitting data into test and train\n",
    "X_train = reviews_for_modeling_stand.drop(columns = ['r_stars'])\n",
    "y_train = reviews_for_modeling_stand['r_stars']\n",
    "X_test = test"
   ]
  },
  {
   "cell_type": "code",
   "execution_count": 37,
   "id": "57c10236-fc55-4c88-8f17-586f7d894172",
   "metadata": {},
   "outputs": [],
   "source": [
    "################################################\n",
    "# RF Classification model optimized \n",
    "################################################\n",
    "from sklearn.ensemble import RandomForestClassifier\n",
    "rf = RandomForestClassifier(n_estimators=100, criterion='gini', random_state=42, max_depth=None)\n",
    "rf.fit(X_train, y_train)\n",
    "y_pred = rf.predict(X_test)"
   ]
  },
  {
   "cell_type": "code",
   "execution_count": 50,
   "id": "530e904d-243c-4b48-b6e0-976aec7289ef",
   "metadata": {
    "tags": []
   },
   "outputs": [],
   "source": [
    "#load in test_data review_id\n",
    "dfs = []\n",
    "for load_num in range(0,70):\n",
    "    df = pd.read_json(f's3://sagemaker-studio-ai-lab-3/final-data/test_{load_num}.json') \n",
    "    dfs.append(df)\n",
    "reviews = pd.concat (dfs, ignore_index = True)"
   ]
  },
  {
   "cell_type": "code",
   "execution_count": 57,
   "id": "f3784cda-0370-410e-8fa8-e63c83d4bc0a",
   "metadata": {
    "tags": []
   },
   "outputs": [
    {
     "data": {
      "text/html": [
       "<div>\n",
       "<style scoped>\n",
       "    .dataframe tbody tr th:only-of-type {\n",
       "        vertical-align: middle;\n",
       "    }\n",
       "\n",
       "    .dataframe tbody tr th {\n",
       "        vertical-align: top;\n",
       "    }\n",
       "\n",
       "    .dataframe thead th {\n",
       "        text-align: right;\n",
       "    }\n",
       "</style>\n",
       "<table border=\"1\" class=\"dataframe\">\n",
       "  <thead>\n",
       "    <tr style=\"text-align: right;\">\n",
       "      <th></th>\n",
       "      <th>review_id</th>\n",
       "      <th>pred</th>\n",
       "    </tr>\n",
       "  </thead>\n",
       "  <tbody>\n",
       "    <tr>\n",
       "      <th>0</th>\n",
       "      <td>s_unrrXlNaGcADomLPwt1g</td>\n",
       "      <td>1</td>\n",
       "    </tr>\n",
       "    <tr>\n",
       "      <th>1</th>\n",
       "      <td>EGCLYbrm9PdtxpTccJbsjg</td>\n",
       "      <td>1</td>\n",
       "    </tr>\n",
       "    <tr>\n",
       "      <th>2</th>\n",
       "      <td>t1cKG4bbDqNSyAOIul7yyA</td>\n",
       "      <td>5</td>\n",
       "    </tr>\n",
       "    <tr>\n",
       "      <th>3</th>\n",
       "      <td>M5QTMFkVIe7yd_yZQ7yhJg</td>\n",
       "      <td>5</td>\n",
       "    </tr>\n",
       "    <tr>\n",
       "      <th>4</th>\n",
       "      <td>mYisBnlX7xC1z-brQoRmsA</td>\n",
       "      <td>3</td>\n",
       "    </tr>\n",
       "    <tr>\n",
       "      <th>...</th>\n",
       "      <td>...</td>\n",
       "      <td>...</td>\n",
       "    </tr>\n",
       "    <tr>\n",
       "      <th>699023</th>\n",
       "      <td>ksWSbGc6qWl_W8-8qaJGqg</td>\n",
       "      <td>5</td>\n",
       "    </tr>\n",
       "    <tr>\n",
       "      <th>699024</th>\n",
       "      <td>p0yUpJphnTSheJKDqVCkLQ</td>\n",
       "      <td>1</td>\n",
       "    </tr>\n",
       "    <tr>\n",
       "      <th>699025</th>\n",
       "      <td>kNBeMFRVIBafOnjneCClTg</td>\n",
       "      <td>3</td>\n",
       "    </tr>\n",
       "    <tr>\n",
       "      <th>699026</th>\n",
       "      <td>aQVvrkukg0zGzPX1ImwFfQ</td>\n",
       "      <td>5</td>\n",
       "    </tr>\n",
       "    <tr>\n",
       "      <th>699027</th>\n",
       "      <td>v56MIMoL0b4y-UijtGAN7A</td>\n",
       "      <td>4</td>\n",
       "    </tr>\n",
       "  </tbody>\n",
       "</table>\n",
       "<p>699028 rows × 2 columns</p>\n",
       "</div>"
      ],
      "text/plain": [
       "                     review_id  pred\n",
       "0       s_unrrXlNaGcADomLPwt1g     1\n",
       "1       EGCLYbrm9PdtxpTccJbsjg     1\n",
       "2       t1cKG4bbDqNSyAOIul7yyA     5\n",
       "3       M5QTMFkVIe7yd_yZQ7yhJg     5\n",
       "4       mYisBnlX7xC1z-brQoRmsA     3\n",
       "...                        ...   ...\n",
       "699023  ksWSbGc6qWl_W8-8qaJGqg     5\n",
       "699024  p0yUpJphnTSheJKDqVCkLQ     1\n",
       "699025  kNBeMFRVIBafOnjneCClTg     3\n",
       "699026  aQVvrkukg0zGzPX1ImwFfQ     5\n",
       "699027  v56MIMoL0b4y-UijtGAN7A     4\n",
       "\n",
       "[699028 rows x 2 columns]"
      ]
     },
     "execution_count": 57,
     "metadata": {},
     "output_type": "execute_result"
    }
   ],
   "source": [
    "#upload y_pred as prediction csv\n",
    "submission_csv = pd.DataFrame({'review_id': reviews['review_id'], 'pred': y_pred})\n",
    "submission_csv"
   ]
  },
  {
   "cell_type": "code",
   "execution_count": 58,
   "id": "01d7595e-a1f8-4fc8-9748-f3c0b3997792",
   "metadata": {
    "tags": []
   },
   "outputs": [],
   "source": [
    "#upload\n",
    "pred_upload_path = f\"s3://sagemaker-studio-ai-lab-3/la/submission2_csv\"\n",
    "submission_csv.to_csv(pred_upload_path, index = False)"
   ]
  },
  {
   "cell_type": "markdown",
   "id": "ae26851b-df89-47d1-abfc-86e509519330",
   "metadata": {
    "tags": []
   },
   "source": [
    "## Visualzations"
   ]
  },
  {
   "cell_type": "code",
   "execution_count": 75,
   "id": "5fead269-ad5f-46b2-8f4a-dbc16696dcf6",
   "metadata": {
    "tags": []
   },
   "outputs": [
    {
     "data": {
      "image/png": "[encoded data removed]",
      "text/plain": [
       "<Figure size 1000x600 with 1 Axes>"
      ]
     },
     "metadata": {},
     "output_type": "display_data"
    }
   ],
   "source": [
    "#chart of all models used without including BERT predictions \n",
    "#gb_accuracy = 0.3666\n",
    "#knn_accuracy = 0.2965\n",
    "#rf_accuracy = 0.4751\n",
    "# log_accuracy = .31\n",
    "#svm_accuracy = .24\n",
    "accuracy_list = [gb_accuracy,knn_accuracy, rf_accuracy,log_accuracy, svm_accuracy]\n",
    "model_names = ['Gradient Boosting',  'KNN','Random Forest', 'Logistic Regression', 'SVC', ]\n",
    "\n",
    "# Plotting the accuracies\n",
    "colors = plt.cm.Blues(np.linspace(.5, 1, len(model_names)))\n",
    "plt.figure(figsize=(10, 6))\n",
    "bars = plt.barh(model_names, accuracy_list, color=colors)\n",
    "for i, bar in enumerate(bars):\n",
    "    plt.text(bar.get_width(), bar.get_y() + bar.get_height()/2, f'{accuracy_list[i]:.2f}', \n",
    "             va='center', ha='left', fontsize = 9)\n",
    "plt.xlabel('Accuracy')\n",
    "plt.title('Accuracy Comparison of Traditional ML Models (sans BERT Predictions)')\n",
    "plt.xlim(0, 1)  # Set the limit from 0 to 1 for accuracy values\n",
    "plt.show()"
   ]
  },
  {
   "cell_type": "code",
   "execution_count": 59,
   "id": "f6bce926-54de-49b3-bd0a-498eb89c35a1",
   "metadata": {
    "tags": []
   },
   "outputs": [
    {
     "data": {
      "image/png": "[encoded data removed]",
      "text/plain": [
       "<Figure size 1000x600 with 1 Axes>"
      ]
     },
     "metadata": {},
     "output_type": "display_data"
    }
   ],
   "source": [
    "#chart of all models used with BERT pred \n",
    "gb_accuracy = 0.6827\n",
    "knn_accuracy = 0.2976\n",
    "rf_accuracy = 0.7870\n",
    "log_accuracy = 0.3241\n",
    "svm_accuracy = 0.2387\n",
    "accuracy_list = [gb_accuracy,knn_accuracy, rf_accuracy,log_accuracy, svm_accuracy]\n",
    "model_names = ['Gradient Boosting',  'KNN','Random Forest', 'Logistic Regression', 'SVC', ]\n",
    "\n",
    "# Plotting the accuracies\n",
    "colors = plt.cm.Greens(np.linspace(.5, 1, len(model_names)))\n",
    "plt.figure(figsize=(10, 6))\n",
    "bars = plt.barh(model_names, accuracy_list, color=colors)\n",
    "for i, bar in enumerate(bars):\n",
    "    plt.text(bar.get_width(), bar.get_y() + bar.get_height()/2, f'{accuracy_list[i]:.3f}', \n",
    "             va='center', ha='left', fontsize = 9)\n",
    "plt.xlabel('Accuracy')\n",
    "plt.title('Accuracy Comparison of Traditional ML Models (with BERT Predictions)')\n",
    "plt.xlim(0, 1)  # Set the limit from 0 to 1 for accuracy values\n",
    "plt.show()"
   ]
  }
 ],
 "metadata": {
  "availableInstances": [
   {
    "_defaultOrder": 0,
    "_isFastLaunch": true,
    "category": "General purpose",
    "gpuNum": 0,
    "hideHardwareSpecs": false,
    "memoryGiB": 4,
    "name": "ml.t3.medium",
    "vcpuNum": 2
   },
   {
    "_defaultOrder": 1,
    "_isFastLaunch": false,
    "category": "General purpose",
    "gpuNum": 0,
    "hideHardwareSpecs": false,
    "memoryGiB": 8,
    "name": "ml.t3.large",
    "vcpuNum": 2
   },
   {
    "_defaultOrder": 2,
    "_isFastLaunch": false,
    "category": "General purpose",
    "gpuNum": 0,
    "hideHardwareSpecs": false,
    "memoryGiB": 16,
    "name": "ml.t3.xlarge",
    "vcpuNum": 4
   },
   {
    "_defaultOrder": 3,
    "_isFastLaunch": false,
    "category": "General purpose",
    "gpuNum": 0,
    "hideHardwareSpecs": false,
    "memoryGiB": 32,
    "name": "ml.t3.2xlarge",
    "vcpuNum": 8
   },
   {
    "_defaultOrder": 4,
    "_isFastLaunch": true,
    "category": "General purpose",
    "gpuNum": 0,
    "hideHardwareSpecs": false,
    "memoryGiB": 8,
    "name": "ml.m5.large",
    "vcpuNum": 2
   },
   {
    "_defaultOrder": 5,
    "_isFastLaunch": false,
    "category": "General purpose",
    "gpuNum": 0,
    "hideHardwareSpecs": false,
    "memoryGiB": 16,
    "name": "ml.m5.xlarge",
    "vcpuNum": 4
   },
   {
    "_defaultOrder": 6,
    "_isFastLaunch": false,
    "category": "General purpose",
    "gpuNum": 0,
    "hideHardwareSpecs": false,
    "memoryGiB": 32,
    "name": "ml.m5.2xlarge",
    "vcpuNum": 8
   },
   {
    "_defaultOrder": 7,
    "_isFastLaunch": false,
    "category": "General purpose",
    "gpuNum": 0,
    "hideHardwareSpecs": false,
    "memoryGiB": 64,
    "name": "ml.m5.4xlarge",
    "vcpuNum": 16
   },
   {
    "_defaultOrder": 8,
    "_isFastLaunch": false,
    "category": "General purpose",
    "gpuNum": 0,
    "hideHardwareSpecs": false,
    "memoryGiB": 128,
    "name": "ml.m5.8xlarge",
    "vcpuNum": 32
   },
   {
    "_defaultOrder": 9,
    "_isFastLaunch": false,
    "category": "General purpose",
    "gpuNum": 0,
    "hideHardwareSpecs": false,
    "memoryGiB": 192,
    "name": "ml.m5.12xlarge",
    "vcpuNum": 48
   },
   {
    "_defaultOrder": 10,
    "_isFastLaunch": false,
    "category": "General purpose",
    "gpuNum": 0,
    "hideHardwareSpecs": false,
    "memoryGiB": 256,
    "name": "ml.m5.16xlarge",
    "vcpuNum": 64
   },
   {
    "_defaultOrder": 11,
    "_isFastLaunch": false,
    "category": "General purpose",
    "gpuNum": 0,
    "hideHardwareSpecs": false,
    "memoryGiB": 384,
    "name": "ml.m5.24xlarge",
    "vcpuNum": 96
   },
   {
    "_defaultOrder": 12,
    "_isFastLaunch": false,
    "category": "General purpose",
    "gpuNum": 0,
    "hideHardwareSpecs": false,
    "memoryGiB": 8,
    "name": "ml.m5d.large",
    "vcpuNum": 2
   },
   {
    "_defaultOrder": 13,
    "_isFastLaunch": false,
    "category": "General purpose",
    "gpuNum": 0,
    "hideHardwareSpecs": false,
    "memoryGiB": 16,
    "name": "ml.m5d.xlarge",
    "vcpuNum": 4
   },
   {
    "_defaultOrder": 14,
    "_isFastLaunch": false,
    "category": "General purpose",
    "gpuNum": 0,
    "hideHardwareSpecs": false,
    "memoryGiB": 32,
    "name": "ml.m5d.2xlarge",
    "vcpuNum": 8
   },
   {
    "_defaultOrder": 15,
    "_isFastLaunch": false,
    "category": "General purpose",
    "gpuNum": 0,
    "hideHardwareSpecs": false,
    "memoryGiB": 64,
    "name": "ml.m5d.4xlarge",
    "vcpuNum": 16
   },
   {
    "_defaultOrder": 16,
    "_isFastLaunch": false,
    "category": "General purpose",
    "gpuNum": 0,
    "hideHardwareSpecs": false,
    "memoryGiB": 128,
    "name": "ml.m5d.8xlarge",
    "vcpuNum": 32
   },
   {
    "_defaultOrder": 17,
    "_isFastLaunch": false,
    "category": "General purpose",
    "gpuNum": 0,
    "hideHardwareSpecs": false,
    "memoryGiB": 192,
    "name": "ml.m5d.12xlarge",
    "vcpuNum": 48
   },
   {
    "_defaultOrder": 18,
    "_isFastLaunch": false,
    "category": "General purpose",
    "gpuNum": 0,
    "hideHardwareSpecs": false,
    "memoryGiB": 256,
    "name": "ml.m5d.16xlarge",
    "vcpuNum": 64
   },
   {
    "_defaultOrder": 19,
    "_isFastLaunch": false,
    "category": "General purpose",
    "gpuNum": 0,
    "hideHardwareSpecs": false,
    "memoryGiB": 384,
    "name": "ml.m5d.24xlarge",
    "vcpuNum": 96
   },
   {
    "_defaultOrder": 20,
    "_isFastLaunch": false,
    "category": "General purpose",
    "gpuNum": 0,
    "hideHardwareSpecs": true,
    "memoryGiB": 0,
    "name": "ml.geospatial.interactive",
    "supportedImageNames": [
     "sagemaker-geospatial-v1-0"
    ],
    "vcpuNum": 0
   },
   {
    "_defaultOrder": 21,
    "_isFastLaunch": true,
    "category": "Compute optimized",
    "gpuNum": 0,
    "hideHardwareSpecs": false,
    "memoryGiB": 4,
    "name": "ml.c5.large",
    "vcpuNum": 2
   },
   {
    "_defaultOrder": 22,
    "_isFastLaunch": false,
    "category": "Compute optimized",
    "gpuNum": 0,
    "hideHardwareSpecs": false,
    "memoryGiB": 8,
    "name": "ml.c5.xlarge",
    "vcpuNum": 4
   },
   {
    "_defaultOrder": 23,
    "_isFastLaunch": false,
    "category": "Compute optimized",
    "gpuNum": 0,
    "hideHardwareSpecs": false,
    "memoryGiB": 16,
    "name": "ml.c5.2xlarge",
    "vcpuNum": 8
   },
   {
    "_defaultOrder": 24,
    "_isFastLaunch": false,
    "category": "Compute optimized",
    "gpuNum": 0,
    "hideHardwareSpecs": false,
    "memoryGiB": 32,
    "name": "ml.c5.4xlarge",
    "vcpuNum": 16
   },
   {
    "_defaultOrder": 25,
    "_isFastLaunch": false,
    "category": "Compute optimized",
    "gpuNum": 0,
    "hideHardwareSpecs": false,
    "memoryGiB": 72,
    "name": "ml.c5.9xlarge",
    "vcpuNum": 36
   },
   {
    "_defaultOrder": 26,
    "_isFastLaunch": false,
    "category": "Compute optimized",
    "gpuNum": 0,
    "hideHardwareSpecs": false,
    "memoryGiB": 96,
    "name": "ml.c5.12xlarge",
    "vcpuNum": 48
   },
   {
    "_defaultOrder": 27,
    "_isFastLaunch": false,
    "category": "Compute optimized",
    "gpuNum": 0,
    "hideHardwareSpecs": false,
    "memoryGiB": 144,
    "name": "ml.c5.18xlarge",
    "vcpuNum": 72
   },
   {
    "_defaultOrder": 28,
    "_isFastLaunch": false,
    "category": "Compute optimized",
    "gpuNum": 0,
    "hideHardwareSpecs": false,
    "memoryGiB": 192,
    "name": "ml.c5.24xlarge",
    "vcpuNum": 96
   },
   {
    "_defaultOrder": 29,
    "_isFastLaunch": true,
    "category": "Accelerated computing",
    "gpuNum": 1,
    "hideHardwareSpecs": false,
    "memoryGiB": 16,
    "name": "ml.g4dn.xlarge",
    "vcpuNum": 4
   },
   {
    "_defaultOrder": 30,
    "_isFastLaunch": false,
    "category": "Accelerated computing",
    "gpuNum": 1,
    "hideHardwareSpecs": false,
    "memoryGiB": 32,
    "name": "ml.g4dn.2xlarge",
    "vcpuNum": 8
   },
   {
    "_defaultOrder": 31,
    "_isFastLaunch": false,
    "category": "Accelerated computing",
    "gpuNum": 1,
    "hideHardwareSpecs": false,
    "memoryGiB": 64,
    "name": "ml.g4dn.4xlarge",
    "vcpuNum": 16
   },
   {
    "_defaultOrder": 32,
    "_isFastLaunch": false,
    "category": "Accelerated computing",
    "gpuNum": 1,
    "hideHardwareSpecs": false,
    "memoryGiB": 128,
    "name": "ml.g4dn.8xlarge",
    "vcpuNum": 32
   },
   {
    "_defaultOrder": 33,
    "_isFastLaunch": false,
    "category": "Accelerated computing",
    "gpuNum": 4,
    "hideHardwareSpecs": false,
    "memoryGiB": 192,
    "name": "ml.g4dn.12xlarge",
    "vcpuNum": 48
   },
   {
    "_defaultOrder": 34,
    "_isFastLaunch": false,
    "category": "Accelerated computing",
    "gpuNum": 1,
    "hideHardwareSpecs": false,
    "memoryGiB": 256,
    "name": "ml.g4dn.16xlarge",
    "vcpuNum": 64
   },
   {
    "_defaultOrder": 35,
    "_isFastLaunch": false,
    "category": "Accelerated computing",
    "gpuNum": 1,
    "hideHardwareSpecs": false,
    "memoryGiB": 61,
    "name": "ml.p3.2xlarge",
    "vcpuNum": 8
   },
   {
    "_defaultOrder": 36,
    "_isFastLaunch": false,
    "category": "Accelerated computing",
    "gpuNum": 4,
    "hideHardwareSpecs": false,
    "memoryGiB": 244,
    "name": "ml.p3.8xlarge",
    "vcpuNum": 32
   },
   {
    "_defaultOrder": 37,
    "_isFastLaunch": false,
    "category": "Accelerated computing",
    "gpuNum": 8,
    "hideHardwareSpecs": false,
    "memoryGiB": 488,
    "name": "ml.p3.16xlarge",
    "vcpuNum": 64
   },
   {
    "_defaultOrder": 38,
    "_isFastLaunch": false,
    "category": "Accelerated computing",
    "gpuNum": 8,
    "hideHardwareSpecs": false,
    "memoryGiB": 768,
    "name": "ml.p3dn.24xlarge",
    "vcpuNum": 96
   },
   {
    "_defaultOrder": 39,
    "_isFastLaunch": false,
    "category": "Memory Optimized",
    "gpuNum": 0,
    "hideHardwareSpecs": false,
    "memoryGiB": 16,
    "name": "ml.r5.large",
    "vcpuNum": 2
   },
   {
    "_defaultOrder": 40,
    "_isFastLaunch": false,
    "category": "Memory Optimized",
    "gpuNum": 0,
    "hideHardwareSpecs": false,
    "memoryGiB": 32,
    "name": "ml.r5.xlarge",
    "vcpuNum": 4
   },
   {
    "_defaultOrder": 41,
    "_isFastLaunch": false,
    "category": "Memory Optimized",
    "gpuNum": 0,
    "hideHardwareSpecs": false,
    "memoryGiB": 64,
    "name": "ml.r5.2xlarge",
    "vcpuNum": 8
   },
   {
    "_defaultOrder": 42,
    "_isFastLaunch": false,
    "category": "Memory Optimized",
    "gpuNum": 0,
    "hideHardwareSpecs": false,
    "memoryGiB": 128,
    "name": "ml.r5.4xlarge",
    "vcpuNum": 16
   },
   {
    "_defaultOrder": 43,
    "_isFastLaunch": false,
    "category": "Memory Optimized",
    "gpuNum": 0,
    "hideHardwareSpecs": false,
    "memoryGiB": 256,
    "name": "ml.r5.8xlarge",
    "vcpuNum": 32
   },
   {
    "_defaultOrder": 44,
    "_isFastLaunch": false,
    "category": "Memory Optimized",
    "gpuNum": 0,
    "hideHardwareSpecs": false,
    "memoryGiB": 384,
    "name": "ml.r5.12xlarge",
    "vcpuNum": 48
   },
   {
    "_defaultOrder": 45,
    "_isFastLaunch": false,
    "category": "Memory Optimized",
    "gpuNum": 0,
    "hideHardwareSpecs": false,
    "memoryGiB": 512,
    "name": "ml.r5.16xlarge",
    "vcpuNum": 64
   },
   {
    "_defaultOrder": 46,
    "_isFastLaunch": false,
    "category": "Memory Optimized",
    "gpuNum": 0,
    "hideHardwareSpecs": false,
    "memoryGiB": 768,
    "name": "ml.r5.24xlarge",
    "vcpuNum": 96
   },
   {
    "_defaultOrder": 47,
    "_isFastLaunch": false,
    "category": "Accelerated computing",
    "gpuNum": 1,
    "hideHardwareSpecs": false,
    "memoryGiB": 16,
    "name": "ml.g5.xlarge",
    "vcpuNum": 4
   },
   {
    "_defaultOrder": 48,
    "_isFastLaunch": false,
    "category": "Accelerated computing",
    "gpuNum": 1,
    "hideHardwareSpecs": false,
    "memoryGiB": 32,
    "name": "ml.g5.2xlarge",
    "vcpuNum": 8
   },
   {
    "_defaultOrder": 49,
    "_isFastLaunch": false,
    "category": "Accelerated computing",
    "gpuNum": 1,
    "hideHardwareSpecs": false,
    "memoryGiB": 64,
    "name": "ml.g5.4xlarge",
    "vcpuNum": 16
   },
   {
    "_defaultOrder": 50,
    "_isFastLaunch": false,
    "category": "Accelerated computing",
    "gpuNum": 1,
    "hideHardwareSpecs": false,
    "memoryGiB": 128,
    "name": "ml.g5.8xlarge",
    "vcpuNum": 32
   },
   {
    "_defaultOrder": 51,
    "_isFastLaunch": false,
    "category": "Accelerated computing",
    "gpuNum": 1,
    "hideHardwareSpecs": false,
    "memoryGiB": 256,
    "name": "ml.g5.16xlarge",
    "vcpuNum": 64
   },
   {
    "_defaultOrder": 52,
    "_isFastLaunch": false,
    "category": "Accelerated computing",
    "gpuNum": 4,
    "hideHardwareSpecs": false,
    "memoryGiB": 192,
    "name": "ml.g5.12xlarge",
    "vcpuNum": 48
   },
   {
    "_defaultOrder": 53,
    "_isFastLaunch": false,
    "category": "Accelerated computing",
    "gpuNum": 4,
    "hideHardwareSpecs": false,
    "memoryGiB": 384,
    "name": "ml.g5.24xlarge",
    "vcpuNum": 96
   },
   {
    "_defaultOrder": 54,
    "_isFastLaunch": false,
    "category": "Accelerated computing",
    "gpuNum": 8,
    "hideHardwareSpecs": false,
    "memoryGiB": 768,
    "name": "ml.g5.48xlarge",
    "vcpuNum": 192
   },
   {
    "_defaultOrder": 55,
    "_isFastLaunch": false,
    "category": "Accelerated computing",
    "gpuNum": 8,
    "hideHardwareSpecs": false,
    "memoryGiB": 1152,
    "name": "ml.p4d.24xlarge",
    "vcpuNum": 96
   },
   {
    "_defaultOrder": 56,
    "_isFastLaunch": false,
    "category": "Accelerated computing",
    "gpuNum": 8,
    "hideHardwareSpecs": false,
    "memoryGiB": 1152,
    "name": "ml.p4de.24xlarge",
    "vcpuNum": 96
   }
  ],
  "instance_type": "ml.m5d.4xlarge",
  "kernelspec": {
   "display_name": "Python 3 (Data Science 3.0)",
   "language": "python",
   "name": "python3__SAGEMAKER_INTERNAL__arn:aws:sagemaker:us-east-1:081325390199:image/sagemaker-data-science-310-v1"
  },
  "language_info": {
   "codemirror_mode": {
    "name": "ipython",
    "version": 3
   },
   "file_extension": ".py",
   "mimetype": "text/x-python",
   "name": "python",
   "nbconvert_exporter": "python",
   "pygments_lexer": "ipython3",
   "version": "3.10.6"
  }
 },
 "nbformat": 4,
 "nbformat_minor": 5
}
